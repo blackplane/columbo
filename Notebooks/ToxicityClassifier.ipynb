{
 "cells": [
  {
   "cell_type": "code",
   "id": "initial_id",
   "metadata": {
    "collapsed": true,
    "ExecuteTime": {
     "end_time": "2025-01-30T19:40:33.323876Z",
     "start_time": "2025-01-30T19:39:25.103083Z"
    }
   },
   "source": [
    "from pathlib import Path\n",
    "from columbo.toxicity import WikipediaToxicCommentsWithEmbeddingsDataset, get_datasets_with_embedding\n",
    "import matplotlib.pyplot as plt\n",
    "%matplotlib inline\n",
    "import wandb\n",
    "import pandas as pd\n",
    "import numpy as np\n",
    "import random\n",
    "import torch\n",
    "import torch.nn as nn\n",
    "import torch.nn.functional as F\n",
    "from torch.utils.data import DataLoader\n",
    "from dotenv import load_dotenv\n",
    "from codetiming import Timer\n",
    "from tqdm.notebook import tqdm\n",
    "\n",
    "load_dotenv()\n",
    "\n",
    "device = torch.device(\"mps\") if torch.backends.mps.is_available() else torch.device(\"cpu\")\n",
    "# device = torch.device(\"cpu\")\n",
    "\n",
    "train_ds, val_ds, test_ds = get_datasets_with_embedding(device)\n",
    "\n",
    "train_dataloader = DataLoader(\n",
    "    train_ds, \n",
    "    batch_size=32, \n",
    "    shuffle=True,\n",
    "    num_workers=0,\n",
    ")"
   ],
   "outputs": [],
   "execution_count": 1
  },
  {
   "metadata": {},
   "cell_type": "code",
   "outputs": [],
   "execution_count": null,
   "source": "",
   "id": "671f691fb9179236"
  },
  {
   "metadata": {
    "ExecuteTime": {
     "end_time": "2025-01-30T19:42:03.667284Z",
     "start_time": "2025-01-30T19:42:03.656110Z"
    }
   },
   "cell_type": "code",
   "source": [
    "class ToxicityClassifier(nn.Module):\n",
    "    def __init__(self, input_size, hidden_size, output_size):\n",
    "        super(ToxicityClassifier, self).__init__()\n",
    "        self.model = nn.Sequential(\n",
    "            nn.Linear(input_size, hidden_size),\n",
    "            nn.ReLU(),\n",
    "            nn.Linear(hidden_size, hidden_size),\n",
    "            nn.Dropout(p=0.2),\n",
    "            nn.ReLU(),\n",
    "            nn.Linear(hidden_size, output_size)\n",
    "        )\n",
    "        \n",
    "    def forward(self, x):\n",
    "        x = self.model(x)\n",
    "        x = torch.sigmoid(x)\n",
    "        return x\n",
    "    \n",
    "# model = ToxicityClassifier(input_size=768, hidden_size=256, output_size=2)\n",
    "# print(model)\n"
   ],
   "id": "55c8de41555f602d",
   "outputs": [],
   "execution_count": 7
  },
  {
   "metadata": {
    "ExecuteTime": {
     "end_time": "2025-01-30T19:42:39.090231Z",
     "start_time": "2025-01-30T19:42:39.009302Z"
    }
   },
   "cell_type": "code",
   "source": "next(iter(train_dataloader))[\"embedding\"].shape",
   "id": "468e57d643fd41fd",
   "outputs": [
    {
     "data": {
      "text/plain": [
       "torch.Size([32, 768])"
      ]
     },
     "execution_count": 9,
     "metadata": {},
     "output_type": "execute_result"
    }
   ],
   "execution_count": 9
  },
  {
   "metadata": {
    "ExecuteTime": {
     "end_time": "2025-01-30T19:42:55.517066Z",
     "start_time": "2025-01-30T19:42:55.473532Z"
    }
   },
   "cell_type": "code",
   "source": [
    "batch_size, input_dim = next(iter(train_dataloader))[\"embedding\"].shape\n",
    "model = ToxicityClassifier(input_size=input_dim, hidden_size=256, output_size=2).to(device)\n",
    "print(model)"
   ],
   "id": "66f2efb22796e436",
   "outputs": [
    {
     "name": "stdout",
     "output_type": "stream",
     "text": [
      "ToxicityClassifier(\n",
      "  (model): Sequential(\n",
      "    (0): Linear(in_features=768, out_features=256, bias=True)\n",
      "    (1): ReLU()\n",
      "    (2): Linear(in_features=256, out_features=256, bias=True)\n",
      "    (3): Dropout(p=0.2, inplace=False)\n",
      "    (4): ReLU()\n",
      "    (5): Linear(in_features=256, out_features=2, bias=True)\n",
      "  )\n",
      ")\n"
     ]
    }
   ],
   "execution_count": 10
  },
  {
   "metadata": {
    "ExecuteTime": {
     "end_time": "2025-01-29T13:55:46.616826Z",
     "start_time": "2025-01-29T13:55:46.613851Z"
    }
   },
   "cell_type": "code",
   "source": [
    "# item = train_ds.__getitem__(idx)\n",
    "# batch_dict, label = item[\"tokens\"], item[\"label\"]\n",
    "# outputs = embed(**batch_dict)\n",
    "# embeddings = outputs.last_hidden_state[:, 0]\n",
    "# embeddings = F.normalize(embeddings, p=2, dim=1)"
   ],
   "id": "151b4e578b9136c3",
   "outputs": [],
   "execution_count": 4
  },
  {
   "metadata": {
    "ExecuteTime": {
     "end_time": "2025-01-30T19:48:51.976835Z",
     "start_time": "2025-01-30T19:48:51.482079Z"
    }
   },
   "cell_type": "code",
   "source": [
    "sample = next(iter(train_dataloader))\n",
    "X, y = sample[\"embedding\"], sample[\"label\"]\n",
    "y_pred = model(X)"
   ],
   "id": "13d4a05e83f263f0",
   "outputs": [],
   "execution_count": 14
  },
  {
   "metadata": {
    "ExecuteTime": {
     "end_time": "2025-01-30T19:49:44.002482Z",
     "start_time": "2025-01-30T19:49:43.005254Z"
    }
   },
   "cell_type": "code",
   "source": [
    "loss_fn = nn.CrossEntropyLoss()\n",
    "y_oh = torch.nn.functional.one_hot(y, num_classes=2).float()\n",
    "loss = loss_fn(y_pred.squeeze(), y_oh)"
   ],
   "id": "634491642eb23861",
   "outputs": [],
   "execution_count": 18
  },
  {
   "metadata": {
    "ExecuteTime": {
     "end_time": "2025-01-30T19:49:46.269691Z",
     "start_time": "2025-01-30T19:49:46.257997Z"
    }
   },
   "cell_type": "code",
   "source": "loss",
   "id": "a78002f0234c4b84",
   "outputs": [
    {
     "data": {
      "text/plain": [
       "tensor(0.6934, device='mps:0', grad_fn=<DivBackward1>)"
      ]
     },
     "execution_count": 19,
     "metadata": {},
     "output_type": "execute_result"
    }
   ],
   "execution_count": 19
  },
  {
   "metadata": {
    "ExecuteTime": {
     "end_time": "2025-01-30T19:49:24.775444Z",
     "start_time": "2025-01-30T19:49:24.760632Z"
    }
   },
   "cell_type": "code",
   "source": "y_pred.device",
   "id": "cf39331d9b96c20d",
   "outputs": [
    {
     "data": {
      "text/plain": [
       "device(type='mps', index=0)"
      ]
     },
     "execution_count": 17,
     "metadata": {},
     "output_type": "execute_result"
    }
   ],
   "execution_count": 17
  },
  {
   "metadata": {},
   "cell_type": "markdown",
   "source": "## Training the Classifier",
   "id": "51467ff4b91b6cdb"
  },
  {
   "metadata": {
    "ExecuteTime": {
     "end_time": "2025-01-30T19:54:33.433848Z",
     "start_time": "2025-01-30T19:54:32.267053Z"
    }
   },
   "cell_type": "code",
   "source": [
    "loss_fn = nn.CrossEntropyLoss()\n",
    "learning_rate = 0.001\n",
    "optimizer = torch.optim.Adam(model.parameters(), lr=learning_rate)\n",
    "epochs = 10\n",
    "losses = []\n",
    "epoch_timer = Timer(name=\"epoch_timer\", logger=None)\n",
    "batch_timer = Timer(name=\"batch_timer\", logger=None)\n",
    "\n",
    "wandb.init(\n",
    "    # set the wandb project where this run will be logged\n",
    "    project=\"toxicity-classifier\",\n",
    "    # track hyperparameters and run metadata\n",
    "    config={\n",
    "    \"learning_rate\": learning_rate,\n",
    "    \"architecture\": \"MLP\",\n",
    "    \"dataset\": train_ds.__class__,\n",
    "    \"epochs\": epochs,\n",
    "    }\n",
    ")"
   ],
   "id": "cf30333cab8de22b",
   "outputs": [
    {
     "data": {
      "text/plain": [
       "<IPython.core.display.HTML object>"
      ],
      "text/html": [
       "Tracking run with wandb version 0.19.5"
      ]
     },
     "metadata": {},
     "output_type": "display_data"
    },
    {
     "data": {
      "text/plain": [
       "<IPython.core.display.HTML object>"
      ],
      "text/html": [
       "Run data is saved locally in <code>/Users/armin/PycharmProjects/columbo/Notebooks/wandb/run-20250130_115432-rcef0w2q</code>"
      ]
     },
     "metadata": {},
     "output_type": "display_data"
    },
    {
     "data": {
      "text/plain": [
       "<IPython.core.display.HTML object>"
      ],
      "text/html": [
       "Syncing run <strong><a href='https://wandb.ai/blackplane34/toxicity-classifier/runs/rcef0w2q' target=\"_blank\">dandy-fire-2</a></strong> to <a href='https://wandb.ai/blackplane34/toxicity-classifier' target=\"_blank\">Weights & Biases</a> (<a href='https://wandb.me/developer-guide' target=\"_blank\">docs</a>)<br>"
      ]
     },
     "metadata": {},
     "output_type": "display_data"
    },
    {
     "data": {
      "text/plain": [
       "<IPython.core.display.HTML object>"
      ],
      "text/html": [
       " View project at <a href='https://wandb.ai/blackplane34/toxicity-classifier' target=\"_blank\">https://wandb.ai/blackplane34/toxicity-classifier</a>"
      ]
     },
     "metadata": {},
     "output_type": "display_data"
    },
    {
     "data": {
      "text/plain": [
       "<IPython.core.display.HTML object>"
      ],
      "text/html": [
       " View run at <a href='https://wandb.ai/blackplane34/toxicity-classifier/runs/rcef0w2q' target=\"_blank\">https://wandb.ai/blackplane34/toxicity-classifier/runs/rcef0w2q</a>"
      ]
     },
     "metadata": {},
     "output_type": "display_data"
    },
    {
     "data": {
      "text/html": [
       "<button onClick=\"this.nextSibling.style.display='block';this.style.display='none';\">Display W&B run</button><iframe src='https://wandb.ai/blackplane34/toxicity-classifier/runs/rcef0w2q?jupyter=true' style='border:none;width:100%;height:420px;display:none;'></iframe>"
      ],
      "text/plain": [
       "<wandb.sdk.wandb_run.Run at 0x324a38bf0>"
      ]
     },
     "execution_count": 26,
     "metadata": {},
     "output_type": "execute_result"
    }
   ],
   "execution_count": 26
  },
  {
   "metadata": {
    "jupyter": {
     "is_executing": true
    },
    "ExecuteTime": {
     "start_time": "2025-01-30T19:54:41.184102Z"
    }
   },
   "cell_type": "code",
   "source": [
    "for epoch in range(epochs):\n",
    "    epoch_timer.start()\n",
    "    model.train()\n",
    "    print(f\"---- Starting epoch {epoch} [last={epoch_timer.last:.2f} s] ----\")\n",
    "    for idx, sample in enumerate(train_dataloader):\n",
    "        batch_timer.start()\n",
    "        X, y = sample[\"embedding\"], sample[\"label\"]\n",
    "        optimizer.zero_grad()\n",
    "        y_pred = model(X)\n",
    "        y_oh = torch.nn.functional.one_hot(y, num_classes=2).float()\n",
    "        loss = loss_fn(y_pred.squeeze(), y_oh)\n",
    "        loss.backward()\n",
    "        optimizer.step()\n",
    "        loss_np = loss.cpu().detach().numpy()\n",
    "        losses.append(loss_np)\n",
    "        wandb.log({\"loss\": loss_np})\n",
    "        batch_timer.stop()\n",
    "        if idx % 50 == 0:\n",
    "            print(f\"Loss = {loss_np}\")\n",
    "    epoch_timer.stop()\n",
    "    \n",
    "wandb.finish()"
   ],
   "id": "2f0989e84536e314",
   "outputs": [
    {
     "name": "stdout",
     "output_type": "stream",
     "text": [
      "---- Starting epoch 0 [last=nan s] ----\n",
      "Loss = 0.42122790217399597\n",
      "Loss = 0.3269304037094116\n",
      "Loss = 0.39996498823165894\n",
      "Loss = 0.38389503955841064\n",
      "Loss = 0.32948923110961914\n",
      "Loss = 0.3694954216480255\n",
      "Loss = 0.4411345422267914\n",
      "Loss = 0.31342726945877075\n",
      "Loss = 0.34706956148147583\n",
      "Loss = 0.3366428017616272\n",
      "Loss = 0.44847673177719116\n",
      "Loss = 0.36627909541130066\n",
      "Loss = 0.4072345793247223\n",
      "Loss = 0.35052818059921265\n",
      "Loss = 0.375754177570343\n",
      "Loss = 0.36134767532348633\n",
      "Loss = 0.31921151280403137\n",
      "---- Starting epoch 1 [last=18.61 s] ----\n",
      "Loss = 0.32920247316360474\n",
      "Loss = 0.3631014823913574\n",
      "Loss = 0.4090377688407898\n",
      "Loss = 0.36372166872024536\n",
      "Loss = 0.37559154629707336\n",
      "Loss = 0.3893590569496155\n",
      "Loss = 0.4092671871185303\n",
      "Loss = 0.3218860626220703\n",
      "Loss = 0.358441561460495\n",
      "Loss = 0.4004371762275696\n",
      "Loss = 0.3792690336704254\n",
      "Loss = 0.5095125436782837\n",
      "Loss = 0.4322882890701294\n",
      "Loss = 0.34528428316116333\n",
      "Loss = 0.42073261737823486\n",
      "Loss = 0.4080372452735901\n",
      "Loss = 0.4272734522819519\n",
      "---- Starting epoch 2 [last=20.90 s] ----\n",
      "Loss = 0.3450908660888672\n",
      "Loss = 0.3868604302406311\n",
      "Loss = 0.3968068063259125\n",
      "Loss = 0.3759555518627167\n",
      "Loss = 0.43420058488845825\n",
      "Loss = 0.37890464067459106\n",
      "Loss = 0.377798855304718\n",
      "Loss = 0.4092525839805603\n",
      "Loss = 0.3521474301815033\n",
      "Loss = 0.375406950712204\n",
      "Loss = 0.4002965986728668\n",
      "Loss = 0.3463377356529236\n",
      "Loss = 0.35328468680381775\n",
      "Loss = 0.35054588317871094\n",
      "Loss = 0.398439884185791\n",
      "Loss = 0.47515231370925903\n",
      "Loss = 0.39154374599456787\n",
      "---- Starting epoch 3 [last=20.96 s] ----\n",
      "Loss = 0.3408091068267822\n",
      "Loss = 0.4003187417984009\n",
      "Loss = 0.3557843565940857\n",
      "Loss = 0.31454357504844666\n",
      "Loss = 0.368580162525177\n",
      "Loss = 0.31373175978660583\n",
      "Loss = 0.3547791838645935\n",
      "Loss = 0.44596606492996216\n",
      "Loss = 0.3777788281440735\n",
      "Loss = 0.3453965187072754\n",
      "Loss = 0.3849571943283081\n",
      "Loss = 0.3812338709831238\n",
      "Loss = 0.34497684240341187\n",
      "Loss = 0.43247196078300476\n",
      "Loss = 0.31326836347579956\n",
      "Loss = 0.3423672318458557\n",
      "Loss = 0.34458258748054504\n",
      "---- Starting epoch 4 [last=21.59 s] ----\n",
      "Loss = 0.3156016170978546\n",
      "Loss = 0.3143705427646637\n",
      "Loss = 0.3589112460613251\n",
      "Loss = 0.3558283746242523\n",
      "Loss = 0.33917391300201416\n",
      "Loss = 0.3511599898338318\n",
      "Loss = 0.3976812958717346\n",
      "Loss = 0.34610211849212646\n",
      "Loss = 0.4069842994213104\n",
      "Loss = 0.3801931142807007\n",
      "Loss = 0.3279077410697937\n",
      "Loss = 0.3448699414730072\n",
      "Loss = 0.3249880075454712\n",
      "Loss = 0.3172321021556854\n",
      "Loss = 0.3907018005847931\n",
      "Loss = 0.35063284635543823\n",
      "Loss = 0.34437495470046997\n",
      "---- Starting epoch 5 [last=20.46 s] ----\n",
      "Loss = 0.3457629680633545\n",
      "Loss = 0.3446338474750519\n",
      "Loss = 0.34822821617126465\n",
      "Loss = 0.31448549032211304\n",
      "Loss = 0.377022922039032\n",
      "Loss = 0.4193089008331299\n",
      "Loss = 0.3592890202999115\n",
      "Loss = 0.3687044680118561\n",
      "Loss = 0.35416659712791443\n",
      "Loss = 0.39104723930358887\n",
      "Loss = 0.4247837960720062\n",
      "Loss = 0.350380539894104\n",
      "Loss = 0.38269171118736267\n",
      "Loss = 0.3761700391769409\n",
      "Loss = 0.40762877464294434\n",
      "Loss = 0.3755069971084595\n",
      "Loss = 0.32466232776641846\n",
      "---- Starting epoch 6 [last=21.56 s] ----\n",
      "Loss = 0.3510163724422455\n",
      "Loss = 0.3461628556251526\n",
      "Loss = 0.34458625316619873\n",
      "Loss = 0.4078570604324341\n",
      "Loss = 0.39375680685043335\n",
      "Loss = 0.32043832540512085\n",
      "Loss = 0.3173031508922577\n",
      "Loss = 0.3707183301448822\n",
      "Loss = 0.3522423803806305\n",
      "Loss = 0.37568753957748413\n",
      "Loss = 0.3467637598514557\n",
      "Loss = 0.31332099437713623\n",
      "Loss = 0.3972674608230591\n",
      "Loss = 0.31426239013671875\n",
      "Loss = 0.3447025418281555\n",
      "Loss = 0.3736100196838379\n",
      "Loss = 0.31326696276664734\n",
      "---- Starting epoch 7 [last=19.19 s] ----\n",
      "Loss = 0.31333237886428833\n",
      "Loss = 0.31328701972961426\n",
      "Loss = 0.31351205706596375\n",
      "Loss = 0.3830000162124634\n",
      "Loss = 0.38561102747917175\n",
      "Loss = 0.3445782959461212\n"
     ]
    }
   ],
   "execution_count": null
  },
  {
   "metadata": {
    "ExecuteTime": {
     "end_time": "2025-01-30T05:48:29.956195Z",
     "start_time": "2025-01-30T05:48:29.915125Z"
    }
   },
   "cell_type": "code",
   "source": "loss",
   "id": "4c109b7a4f87af79",
   "outputs": [
    {
     "data": {
      "text/plain": [
       "tensor(0.3133, grad_fn=<DivBackward1>)"
      ]
     },
     "execution_count": 37,
     "metadata": {},
     "output_type": "execute_result"
    }
   ],
   "execution_count": 37
  },
  {
   "metadata": {
    "ExecuteTime": {
     "end_time": "2025-01-30T05:52:29.719472Z",
     "start_time": "2025-01-30T05:52:29.659364Z"
    }
   },
   "cell_type": "code",
   "source": [
    "torch.save({\n",
    "    'epoch': 2,\n",
    "    'model_state_dict': model.state_dict(),\n",
    "    'optimizer_state_dict': optimizer.state_dict(),\n",
    "    'loss': loss,\n",
    "    }, \n",
    "    \"toxicity_classifier.pth\"\n",
    ")"
   ],
   "id": "8dd04e5fcb15e5ec",
   "outputs": [],
   "execution_count": 38
  },
  {
   "metadata": {
    "ExecuteTime": {
     "end_time": "2025-01-30T05:58:49.006147Z",
     "start_time": "2025-01-30T05:58:48.987054Z"
    }
   },
   "cell_type": "code",
   "source": "import numpy as np",
   "id": "c48682af92179bb1",
   "outputs": [],
   "execution_count": 41
  },
  {
   "metadata": {
    "ExecuteTime": {
     "end_time": "2025-01-30T05:59:06.621320Z",
     "start_time": "2025-01-30T05:59:06.587213Z"
    }
   },
   "cell_type": "code",
   "source": "np.array(losses)",
   "id": "6dca4d97d4f63054",
   "outputs": [
    {
     "data": {
      "text/plain": [
       "array([0.69253296, 0.6749906 , 0.6554836 , ..., 0.44754562, 0.3811513 ,\n",
       "       0.3133482 ], dtype=float32)"
      ]
     },
     "execution_count": 42,
     "metadata": {},
     "output_type": "execute_result"
    }
   ],
   "execution_count": 42
  },
  {
   "metadata": {
    "ExecuteTime": {
     "end_time": "2025-01-30T06:05:45.229548Z",
     "start_time": "2025-01-30T06:05:45.087123Z"
    }
   },
   "cell_type": "code",
   "source": [
    "window_size = 20\n",
    "weights = np.ones(window_size) / window_size\n",
    "losses_sma = np.convolve(losses, weights, mode='valid')\n",
    "\n",
    "plt.plot(losses_sma)"
   ],
   "id": "7f4fada07d0e02b6",
   "outputs": [
    {
     "data": {
      "text/plain": [
       "[<matplotlib.lines.Line2D at 0x31cd2be90>]"
      ]
     },
     "execution_count": 48,
     "metadata": {},
     "output_type": "execute_result"
    },
    {
     "data": {
      "text/plain": [
       "<Figure size 640x480 with 1 Axes>"
      ],
      "image/png": "[encoded data removed]"
     },
     "metadata": {},
     "output_type": "display_data"
    }
   ],
   "execution_count": 48
  },
  {
   "metadata": {
    "ExecuteTime": {
     "end_time": "2025-01-28T21:55:50.025949Z",
     "start_time": "2025-01-28T21:55:18.159696Z"
    }
   },
   "cell_type": "code",
   "source": [
    "\n",
    "\n",
    "# start a new wandb run to track this script\n",
    "wandb.init(\n",
    "    # set the wandb project where this run will be logged\n",
    "    project=\"my-awesome-project\",\n",
    "\n",
    "    # track hyperparameters and run metadata\n",
    "    config={\n",
    "    \"learning_rate\": 0.02,\n",
    "    \"architecture\": \"CNN\",\n",
    "    \"dataset\": \"CIFAR-100\",\n",
    "    \"epochs\": 10,\n",
    "    }\n",
    ")\n",
    "\n",
    "# simulate training\n",
    "epochs = 10\n",
    "offset = random.random() / 5\n",
    "for epoch in range(2, epochs):\n",
    "    acc = 1 - 2 ** -epoch - random.random() / epoch - offset\n",
    "    loss = 2 ** -epoch + random.random() / epoch + offset\n",
    "\n",
    "    # log metrics to wandb\n",
    "    wandb.log({\"acc\": acc, \"loss\": loss})\n",
    "\n",
    "# [optional] finish the wandb run, necessary in notebooks\n",
    "wandb.finish()"
   ],
   "id": "78ad8e24ffad175b",
   "outputs": [
    {
     "name": "stderr",
     "output_type": "stream",
     "text": [
      "huggingface/tokenizers: The current process just got forked, after parallelism has already been used. Disabling parallelism to avoid deadlocks...\n",
      "To disable this warning, you can either:\n",
      "\t- Avoid using `tokenizers` before the fork if possible\n",
      "\t- Explicitly set the environment variable TOKENIZERS_PARALLELISM=(true | false)\n",
      "\u001B[34m\u001B[1mwandb\u001B[0m: Currently logged in as: \u001B[33mblackplane\u001B[0m (\u001B[33mblackplane34\u001B[0m). Use \u001B[1m`wandb login --relogin`\u001B[0m to force relogin\n",
      "\u001B[34m\u001B[1mwandb\u001B[0m: Using wandb-core as the SDK backend.  Please refer to https://wandb.me/wandb-core for more information.\n",
      "huggingface/tokenizers: The current process just got forked, after parallelism has already been used. Disabling parallelism to avoid deadlocks...\n",
      "To disable this warning, you can either:\n",
      "\t- Avoid using `tokenizers` before the fork if possible\n",
      "\t- Explicitly set the environment variable TOKENIZERS_PARALLELISM=(true | false)\n",
      "huggingface/tokenizers: The current process just got forked, after parallelism has already been used. Disabling parallelism to avoid deadlocks...\n",
      "To disable this warning, you can either:\n",
      "\t- Avoid using `tokenizers` before the fork if possible\n",
      "\t- Explicitly set the environment variable TOKENIZERS_PARALLELISM=(true | false)\n"
     ]
    },
    {
     "data": {
      "text/plain": [
       "<IPython.core.display.HTML object>"
      ],
      "text/html": [
       "Tracking run with wandb version 0.19.4"
      ]
     },
     "metadata": {},
     "output_type": "display_data"
    },
    {
     "data": {
      "text/plain": [
       "<IPython.core.display.HTML object>"
      ],
      "text/html": [
       "Run data is saved locally in <code>/Users/armin/PycharmProjects/notebook/Notebooks/AISafety/wandb/run-20250128_135518-4r8v098b</code>"
      ]
     },
     "metadata": {},
     "output_type": "display_data"
    },
    {
     "data": {
      "text/plain": [
       "<IPython.core.display.HTML object>"
      ],
      "text/html": [
       "Syncing run <strong><a href='https://wandb.ai/blackplane34/my-awesome-project/runs/4r8v098b' target=\"_blank\">colorful-sky-1</a></strong> to <a href='https://wandb.ai/blackplane34/my-awesome-project' target=\"_blank\">Weights & Biases</a> (<a href='https://wandb.me/developer-guide' target=\"_blank\">docs</a>)<br>"
      ]
     },
     "metadata": {},
     "output_type": "display_data"
    },
    {
     "data": {
      "text/plain": [
       "<IPython.core.display.HTML object>"
      ],
      "text/html": [
       " View project at <a href='https://wandb.ai/blackplane34/my-awesome-project' target=\"_blank\">https://wandb.ai/blackplane34/my-awesome-project</a>"
      ]
     },
     "metadata": {},
     "output_type": "display_data"
    },
    {
     "data": {
      "text/plain": [
       "<IPython.core.display.HTML object>"
      ],
      "text/html": [
       " View run at <a href='https://wandb.ai/blackplane34/my-awesome-project/runs/4r8v098b' target=\"_blank\">https://wandb.ai/blackplane34/my-awesome-project/runs/4r8v098b</a>"
      ]
     },
     "metadata": {},
     "output_type": "display_data"
    },
    {
     "data": {
      "text/plain": [
       "<IPython.core.display.HTML object>"
      ],
      "text/html": []
     },
     "metadata": {},
     "output_type": "display_data"
    },
    {
     "data": {
      "text/plain": [
       "<IPython.core.display.HTML object>"
      ],
      "text/html": [
       "<br>    <style><br>        .wandb-row {<br>            display: flex;<br>            flex-direction: row;<br>            flex-wrap: wrap;<br>            justify-content: flex-start;<br>            width: 100%;<br>        }<br>        .wandb-col {<br>            display: flex;<br>            flex-direction: column;<br>            flex-basis: 100%;<br>            flex: 1;<br>            padding: 10px;<br>        }<br>    </style><br><div class=\"wandb-row\"><div class=\"wandb-col\"><h3>Run history:</h3><br/><table class=\"wandb\"><tr><td>acc</td><td>▁▆▄▇▆▇█▆</td></tr><tr><td>loss</td><td>█▄▂▂▁▂▂▁</td></tr></table><br/></div><div class=\"wandb-col\"><h3>Run summary:</h3><br/><table class=\"wandb\"><tr><td>acc</td><td>0.73252</td></tr><tr><td>loss</td><td>0.18606</td></tr></table><br/></div></div>"
      ]
     },
     "metadata": {},
     "output_type": "display_data"
    },
    {
     "data": {
      "text/plain": [
       "<IPython.core.display.HTML object>"
      ],
      "text/html": [
       " View run <strong style=\"color:#cdcd00\">colorful-sky-1</strong> at: <a href='https://wandb.ai/blackplane34/my-awesome-project/runs/4r8v098b' target=\"_blank\">https://wandb.ai/blackplane34/my-awesome-project/runs/4r8v098b</a><br> View project at: <a href='https://wandb.ai/blackplane34/my-awesome-project' target=\"_blank\">https://wandb.ai/blackplane34/my-awesome-project</a><br>Synced 5 W&B file(s), 0 media file(s), 0 artifact file(s) and 0 other file(s)"
      ]
     },
     "metadata": {},
     "output_type": "display_data"
    },
    {
     "data": {
      "text/plain": [
       "<IPython.core.display.HTML object>"
      ],
      "text/html": [
       "Find logs at: <code>./wandb/run-20250128_135518-4r8v098b/logs</code>"
      ]
     },
     "metadata": {},
     "output_type": "display_data"
    }
   ],
   "execution_count": 3
  },
  {
   "metadata": {
    "ExecuteTime": {
     "end_time": "2025-01-29T02:17:56.236402Z",
     "start_time": "2025-01-29T02:17:56.229846Z"
    }
   },
   "cell_type": "code",
   "source": [
    "import torch.nn as nn\n",
    "m = nn.Dropout(p=0.5)\n",
    "input = torch.randn(20, 16)\n",
    "output = m(input)"
   ],
   "id": "93cefda40f86ab48",
   "outputs": [],
   "execution_count": 6
  },
  {
   "metadata": {
    "ExecuteTime": {
     "end_time": "2025-01-29T02:17:57.375431Z",
     "start_time": "2025-01-29T02:17:57.364751Z"
    }
   },
   "cell_type": "code",
   "source": "output",
   "id": "7f2783a584fd84d",
   "outputs": [
    {
     "data": {
      "text/plain": [
       "tensor([[-2.8997e-01, -0.0000e+00, -0.0000e+00, -0.0000e+00,  2.4487e+00,\n",
       "          1.2077e+00, -0.0000e+00, -4.0735e+00, -2.3964e+00, -0.0000e+00,\n",
       "         -0.0000e+00,  0.0000e+00,  1.8235e+00, -1.0931e+00,  1.7487e+00,\n",
       "         -0.0000e+00],\n",
       "        [-0.0000e+00, -0.0000e+00,  0.0000e+00, -0.0000e+00, -0.0000e+00,\n",
       "         -0.0000e+00,  3.1338e+00,  0.0000e+00, -2.2775e-03,  1.6744e+00,\n",
       "         -1.4507e+00,  9.1966e-01, -2.4533e+00,  0.0000e+00, -7.9773e-01,\n",
       "         -1.1351e+00],\n",
       "        [-0.0000e+00, -0.0000e+00, -0.0000e+00,  2.0157e+00, -2.7741e+00,\n",
       "         -2.0289e+00,  1.0746e+00, -3.2261e+00,  0.0000e+00, -0.0000e+00,\n",
       "          3.2361e+00, -2.1248e+00,  8.5811e-01, -2.0835e+00, -1.5369e+00,\n",
       "          0.0000e+00],\n",
       "        [-0.0000e+00, -0.0000e+00, -0.0000e+00,  0.0000e+00, -0.0000e+00,\n",
       "          0.0000e+00,  0.0000e+00,  8.0641e-01,  1.5341e+00,  1.0178e-01,\n",
       "          2.3954e+00,  0.0000e+00, -0.0000e+00, -0.0000e+00,  0.0000e+00,\n",
       "         -0.0000e+00],\n",
       "        [ 1.1729e+00, -2.3391e+00,  0.0000e+00, -0.0000e+00, -0.0000e+00,\n",
       "          9.5043e-01, -0.0000e+00, -1.3518e+00, -1.3501e+00,  7.5545e-01,\n",
       "          0.0000e+00,  4.6074e-01, -2.2454e+00,  0.0000e+00,  7.3930e-01,\n",
       "          3.8752e+00],\n",
       "        [-0.0000e+00,  4.5022e+00, -0.0000e+00,  0.0000e+00,  2.5478e+00,\n",
       "          1.4979e+00,  1.5464e+00,  0.0000e+00, -3.7086e+00, -1.6104e+00,\n",
       "         -0.0000e+00, -0.0000e+00,  1.1017e+00, -1.5486e+00,  3.9245e+00,\n",
       "          4.9953e+00],\n",
       "        [ 3.6797e+00, -0.0000e+00,  3.1081e-01,  2.4212e+00,  0.0000e+00,\n",
       "         -4.8410e+00,  4.0533e-01,  0.0000e+00, -2.2527e-01,  3.9161e-01,\n",
       "         -3.6864e+00,  0.0000e+00, -7.7235e-01,  0.0000e+00,  2.0917e+00,\n",
       "          0.0000e+00],\n",
       "        [-3.3718e+00, -0.0000e+00,  0.0000e+00, -1.0937e+00, -2.4454e+00,\n",
       "         -0.0000e+00,  0.0000e+00, -0.0000e+00, -2.6958e+00,  6.1806e+00,\n",
       "          0.0000e+00, -0.0000e+00,  3.0251e-01, -2.3882e-01, -0.0000e+00,\n",
       "          0.0000e+00],\n",
       "        [-0.0000e+00, -0.0000e+00,  0.0000e+00,  0.0000e+00, -0.0000e+00,\n",
       "         -1.0314e+00, -2.9091e+00, -4.5970e-01, -0.0000e+00,  1.7489e+00,\n",
       "          1.3385e+00, -1.6950e+00, -1.8491e+00, -2.2601e+00, -1.1059e+00,\n",
       "          2.5780e+00],\n",
       "        [ 0.0000e+00,  0.0000e+00,  3.1326e+00,  0.0000e+00, -3.3307e+00,\n",
       "          3.2604e+00,  2.9482e-01,  5.8156e-01, -2.0906e+00, -0.0000e+00,\n",
       "          0.0000e+00, -3.4203e-01,  5.1750e+00, -0.0000e+00,  0.0000e+00,\n",
       "         -1.8710e+00],\n",
       "        [ 6.9161e-01,  4.8874e-01, -0.0000e+00, -0.0000e+00, -0.0000e+00,\n",
       "          0.0000e+00,  0.0000e+00, -0.0000e+00,  6.9293e-01,  0.0000e+00,\n",
       "          0.0000e+00, -0.0000e+00,  0.0000e+00,  3.2870e+00,  0.0000e+00,\n",
       "         -4.8872e-01],\n",
       "        [-3.7699e+00,  0.0000e+00, -0.0000e+00, -5.3173e-01, -0.0000e+00,\n",
       "         -1.0248e+00,  3.0612e+00,  0.0000e+00, -5.0419e-01,  0.0000e+00,\n",
       "         -0.0000e+00,  0.0000e+00, -1.7488e+00, -2.5664e+00, -4.1082e+00,\n",
       "         -0.0000e+00],\n",
       "        [-1.7530e+00, -1.2535e+00, -0.0000e+00, -2.3404e+00, -1.3018e+00,\n",
       "         -0.0000e+00,  9.0106e-01,  2.0140e+00,  6.6755e-01, -0.0000e+00,\n",
       "          0.0000e+00, -0.0000e+00,  2.9014e+00, -5.8795e-01,  4.4226e+00,\n",
       "         -7.8528e-01],\n",
       "        [-8.6332e-01, -2.6132e+00, -0.0000e+00,  1.8726e+00,  0.0000e+00,\n",
       "         -1.3620e+00, -0.0000e+00,  0.0000e+00, -5.9371e+00, -3.3029e+00,\n",
       "         -0.0000e+00,  1.4468e+00, -0.0000e+00,  4.2527e-01, -2.2718e+00,\n",
       "         -7.3641e-01],\n",
       "        [-9.1741e-02, -1.9392e+00, -4.7670e-01,  4.8214e-01,  2.8866e-01,\n",
       "          0.0000e+00, -1.4021e+00, -0.0000e+00,  0.0000e+00,  0.0000e+00,\n",
       "         -0.0000e+00,  0.0000e+00, -2.1336e+00,  0.0000e+00, -0.0000e+00,\n",
       "          0.0000e+00],\n",
       "        [ 2.1296e+00,  1.2248e+00,  4.7931e+00, -0.0000e+00,  2.1684e-01,\n",
       "          0.0000e+00,  8.4209e-01, -0.0000e+00, -8.6556e-01,  0.0000e+00,\n",
       "         -1.9319e+00,  0.0000e+00, -2.9653e+00,  5.5899e-01, -6.3868e-01,\n",
       "         -0.0000e+00],\n",
       "        [-0.0000e+00,  1.0929e+00,  7.4536e-02,  9.8333e-01, -4.9392e-01,\n",
       "          0.0000e+00, -2.4065e+00,  8.5879e-01, -1.7229e+00, -0.0000e+00,\n",
       "          0.0000e+00,  0.0000e+00,  1.2079e-01,  0.0000e+00, -0.0000e+00,\n",
       "         -1.1583e+00],\n",
       "        [ 2.5137e+00, -2.1456e+00, -1.6040e+00,  0.0000e+00,  2.8657e-01,\n",
       "         -0.0000e+00, -0.0000e+00, -2.0572e+00,  0.0000e+00,  0.0000e+00,\n",
       "          2.6737e+00, -3.4686e-01,  0.0000e+00, -1.9911e+00, -7.8003e-01,\n",
       "          0.0000e+00],\n",
       "        [ 2.6314e-01, -0.0000e+00, -5.0971e-01,  8.4910e-01,  0.0000e+00,\n",
       "         -0.0000e+00, -0.0000e+00, -0.0000e+00,  2.7736e+00,  1.2285e+00,\n",
       "          0.0000e+00,  2.8842e-01,  0.0000e+00, -7.7840e-01,  0.0000e+00,\n",
       "         -8.1522e-01],\n",
       "        [-0.0000e+00, -0.0000e+00,  3.0429e+00,  0.0000e+00, -0.0000e+00,\n",
       "         -1.8445e+00,  3.8789e-01, -1.1876e+00, -0.0000e+00,  0.0000e+00,\n",
       "         -1.5452e-01, -1.1881e+00,  5.8060e-01,  1.8132e+00,  2.6707e+00,\n",
       "          0.0000e+00]])"
      ]
     },
     "execution_count": 7,
     "metadata": {},
     "output_type": "execute_result"
    }
   ],
   "execution_count": 7
  },
  {
   "metadata": {},
   "cell_type": "code",
   "outputs": [],
   "execution_count": null,
   "source": "",
   "id": "fac6a43c7f338451"
  },
  {
   "metadata": {},
   "cell_type": "code",
   "outputs": [],
   "execution_count": null,
   "source": "",
   "id": "1d0eb6c0bd9cc135"
  },
  {
   "metadata": {},
   "cell_type": "code",
   "outputs": [],
   "execution_count": null,
   "source": "",
   "id": "20ee064f8d0a6733"
  },
  {
   "metadata": {
    "ExecuteTime": {
     "end_time": "2025-01-30T06:29:43.843410Z",
     "start_time": "2025-01-30T06:29:42.633351Z"
    }
   },
   "cell_type": "code",
   "source": [
    "path: Path = Path.home() / \"Data\" / \"Wikipedia-Toxic-Comments\"\n",
    "train_ds = WikipediaToxicCommentsDataset(path / \"balanced_train.csv\")"
   ],
   "id": "51af78f55f0063c5",
   "outputs": [],
   "execution_count": 2
  },
  {
   "metadata": {
    "ExecuteTime": {
     "end_time": "2025-01-30T06:43:38.365442Z",
     "start_time": "2025-01-30T06:43:37.713415Z"
    }
   },
   "cell_type": "code",
   "source": [
    "import pandas as pd\n",
    "import tqdm as tqdm\n",
    "from utils.toxicity import embed, build_embedding\n",
    "\n",
    "device = torch.device(\"mps\") if torch.backends.mps.is_available() else torch.device(\"cpu\")\n",
    "\n",
    "tokenizer, embedder = build_embedding(device=device)\n",
    "dataset_dir = Path.home() / \"Data\" / \"Wikipedia-Toxic-Comments\" \n",
    "df = pd.read_csv(dataset_dir / \"balanced_train.csv\")\n",
    "embeddings = [embed(text, tokenizer, embedder) for text in tqdm(df[\"comment_text\"].values[0:3])]\n",
    "embeddings = [e.cpu().detach().numpy() for e in embeddings]\n",
    "df[\"embeddings\"] = embeddings\n",
    "\n",
    "df.to_csv(dataset_dir / \"balanced_train_with_embeddings.csv\")"
   ],
   "id": "d10c3773c980ed6e",
   "outputs": [
    {
     "data": {
      "text/plain": [
       "  0%|          | 0/3 [00:00<?, ?it/s]"
      ],
      "application/vnd.jupyter.widget-view+json": {
       "version_major": 2,
       "version_minor": 0,
       "model_id": "54fabd45d6b543fda04020591b618b51"
      }
     },
     "metadata": {},
     "output_type": "display_data"
    }
   ],
   "execution_count": 10
  },
  {
   "metadata": {
    "ExecuteTime": {
     "end_time": "2025-01-30T06:44:27.059702Z",
     "start_time": "2025-01-30T06:44:27.035890Z"
    }
   },
   "cell_type": "code",
   "source": "",
   "id": "c30d1429bf9e1523",
   "outputs": [
    {
     "data": {
      "text/plain": [
       "array([[-1.00936126e-02, -2.74826363e-02, -4.37324271e-02,\n",
       "        -3.21844742e-02, -5.19072963e-03, -2.58033872e-02,\n",
       "         1.22725200e-02,  1.01181604e-02,  2.45542005e-02,\n",
       "         1.16217858e-03, -2.32939776e-02, -1.14419935e-02,\n",
       "        -6.49814447e-03, -1.64673347e-02, -1.85538214e-02,\n",
       "        -7.38415460e-04, -1.25559345e-02, -2.35037953e-02,\n",
       "         2.91832108e-02, -3.31682190e-02, -1.29818451e-02,\n",
       "         2.01689731e-02, -3.22065093e-02, -6.46326970e-03,\n",
       "         1.82331577e-02, -7.11647272e-02, -1.89235713e-02,\n",
       "        -1.73050296e-02, -1.68382805e-02, -5.12989238e-02,\n",
       "         4.51433510e-02, -2.06822772e-02, -1.87631119e-02,\n",
       "        -1.00885760e-02,  6.85930112e-03, -7.60592660e-03,\n",
       "        -3.58960293e-02,  6.59328550e-02,  1.96182281e-02,\n",
       "         1.63608547e-02, -1.60855446e-02, -4.47126962e-02,\n",
       "         2.10482664e-02, -7.54378410e-03, -1.37416893e-04,\n",
       "         1.83338039e-02, -9.93031776e-04, -1.22056771e-02,\n",
       "         3.79942432e-02, -5.65163419e-02,  8.49633827e-04,\n",
       "        -9.98162571e-03, -3.89736257e-02, -3.00450958e-02,\n",
       "        -2.68919934e-02,  1.05978893e-02,  6.54028542e-03,\n",
       "        -1.90543644e-02, -2.46362984e-02, -3.63904126e-02,\n",
       "        -8.54063313e-03,  3.57380807e-02, -2.84327194e-02,\n",
       "         1.14212371e-02, -2.92656757e-03,  1.86998546e-02,\n",
       "        -1.40727470e-02,  5.45848254e-03, -5.48688974e-03,\n",
       "         1.16984611e-02,  5.25174104e-02,  1.32908495e-02,\n",
       "         4.16679755e-02, -1.28406351e-02,  3.57440449e-02,\n",
       "         3.39884050e-02, -6.22097105e-02,  1.54460932e-03,\n",
       "         1.30756209e-02, -5.38328514e-02,  3.98901254e-02,\n",
       "        -2.54541375e-02,  7.45227234e-03,  2.96631865e-02,\n",
       "        -9.41095874e-03, -2.66369712e-02,  3.47179919e-03,\n",
       "        -2.88513396e-02, -7.30779860e-03,  9.33579952e-02,\n",
       "        -1.11719696e-02, -5.67046516e-02,  3.82875954e-03,\n",
       "         3.08662653e-02, -6.92401007e-02,  3.89986001e-02,\n",
       "         5.80027699e-03,  7.13321427e-03,  1.89906284e-02,\n",
       "         1.28652798e-02,  2.74142670e-03,  2.21633408e-02,\n",
       "         1.07477382e-02,  3.37853655e-02, -1.26733398e-02,\n",
       "         4.23997594e-03,  2.94204671e-02, -1.66392718e-02,\n",
       "         6.22748118e-03, -3.85898091e-02,  8.73291306e-03,\n",
       "        -1.33165186e-02, -7.53973937e-03,  2.02936251e-02,\n",
       "         2.99766054e-03, -6.60264939e-02, -5.34384325e-02,\n",
       "        -2.03774963e-02,  3.03911790e-02,  1.57229155e-02,\n",
       "         1.39845442e-02,  2.52949316e-02,  4.90671694e-02,\n",
       "        -1.21371392e-02, -4.80695106e-02,  1.13298057e-03,\n",
       "         2.53313184e-02, -2.47740815e-03,  8.35791288e-04,\n",
       "         8.73428285e-02, -4.01221551e-02, -1.15171084e-02,\n",
       "         8.22870061e-02, -4.22511660e-02, -3.66617143e-02,\n",
       "        -5.01932614e-02, -3.46232927e-03, -2.26441119e-02,\n",
       "         3.44893453e-03,  6.46083290e-03, -3.01067363e-02,\n",
       "         3.40759084e-02,  8.84114299e-03,  4.47005499e-03,\n",
       "        -7.27096153e-03,  2.50358554e-03,  4.43838816e-03,\n",
       "        -6.97763115e-02, -2.19143555e-03,  3.62547450e-02,\n",
       "        -5.92021868e-02,  8.11506622e-03,  1.41318636e-02,\n",
       "        -3.85034867e-02,  1.28518499e-04, -1.85728706e-02,\n",
       "         1.01968488e-02,  3.34387980e-02, -2.98498049e-02,\n",
       "         1.32506043e-02, -1.16495239e-02, -5.85988425e-02,\n",
       "        -1.22322040e-02,  6.12881444e-02, -1.71915069e-02,\n",
       "        -4.71180938e-02, -2.46229600e-02,  2.35677492e-02,\n",
       "         1.37643740e-02, -5.83376773e-02,  4.28601243e-02,\n",
       "         2.65095551e-02,  1.78783685e-02, -3.75580303e-02,\n",
       "        -9.34600551e-03, -3.66474986e-02,  1.78406555e-02,\n",
       "        -5.32789566e-02,  4.79437178e-03,  3.58260758e-02,\n",
       "        -3.84699255e-02, -3.80480923e-02, -7.65961362e-03,\n",
       "         2.04614419e-02, -1.31752137e-02, -3.97701748e-02,\n",
       "         1.98308099e-03, -1.30598396e-02, -1.04001705e-02,\n",
       "         5.24106324e-02, -3.10172550e-02,  6.04562797e-02,\n",
       "         2.45168805e-02,  3.02792080e-02, -2.07232591e-02,\n",
       "         5.25423177e-02, -7.93854240e-03,  4.01275456e-02,\n",
       "        -4.30591591e-02,  2.31116749e-02,  3.96322906e-02,\n",
       "        -5.06582158e-03, -6.99758762e-04,  1.18022747e-02,\n",
       "         1.52356061e-03,  4.96572368e-02,  2.07166355e-02,\n",
       "        -1.46383410e-02, -7.76134804e-02, -3.02025769e-02,\n",
       "        -1.67725906e-02, -3.17961574e-02,  1.11264624e-02,\n",
       "        -6.47034124e-02,  5.28788120e-02, -2.69450676e-02,\n",
       "        -3.68999690e-02,  1.79958846e-02,  4.70951386e-03,\n",
       "         3.91771644e-02, -1.65125784e-02, -1.99539959e-02,\n",
       "        -3.20271626e-02,  3.21488036e-03,  9.20939818e-03,\n",
       "         9.74787585e-03,  5.44872023e-02, -3.45743522e-02,\n",
       "        -3.12938914e-03, -4.72506694e-03,  1.04153967e-02,\n",
       "         2.68647354e-02, -2.03153770e-02,  2.99063511e-02,\n",
       "        -2.20229030e-02,  5.46260402e-02, -7.95767549e-03,\n",
       "        -2.52561290e-02,  5.39165400e-02,  5.09398850e-03,\n",
       "        -9.82597005e-03, -9.85594306e-05,  7.07572699e-02,\n",
       "        -1.96209382e-02, -2.34576892e-02, -4.17310894e-02,\n",
       "        -3.59440077e-04,  3.41857448e-02, -2.09617615e-03,\n",
       "         1.92171633e-02,  2.85345456e-03,  4.75586988e-02,\n",
       "         2.01571509e-02,  1.47234173e-02,  5.22583863e-03,\n",
       "        -3.19929197e-02, -4.00361205e-05, -2.27665491e-02,\n",
       "         1.02183560e-03,  4.24721139e-03,  9.28982720e-03,\n",
       "        -4.91885236e-03,  3.98589559e-02, -1.56297488e-03,\n",
       "         2.56337821e-02,  1.96955856e-02,  6.43032230e-03,\n",
       "        -1.13694221e-02, -2.31128763e-02,  4.28533070e-02,\n",
       "        -1.93950776e-02,  1.82445049e-02,  1.87095851e-02,\n",
       "         2.75007244e-02,  2.81874090e-02,  2.59668026e-02,\n",
       "        -1.63286515e-02,  2.50632688e-03, -1.58173218e-02,\n",
       "        -2.43536495e-02, -1.67990960e-02, -4.11663540e-02,\n",
       "        -2.45286040e-02, -2.98659336e-02, -1.87730156e-02,\n",
       "         5.72838867e-03, -2.36712806e-02, -2.31485628e-02,\n",
       "         6.60156831e-02, -9.17065144e-03,  2.67564189e-02,\n",
       "        -9.04303789e-03, -4.09725420e-02,  2.18246300e-02,\n",
       "        -1.20162582e-02,  3.43879350e-02, -3.40986773e-02,\n",
       "         1.65613703e-02,  2.22157035e-02,  1.96426362e-02,\n",
       "         1.29343738e-04,  3.61489737e-03, -2.81584542e-02,\n",
       "        -2.72271093e-02,  6.70880228e-02,  8.05375353e-03,\n",
       "         2.04620995e-02,  2.36520898e-02, -4.04248722e-02,\n",
       "        -5.24199102e-03, -5.39478194e-03,  2.67899279e-02,\n",
       "         2.08252072e-02, -1.25909457e-02,  3.39426892e-03,\n",
       "         2.31220555e-02,  8.24578628e-02, -4.32405546e-02,\n",
       "        -4.77936268e-02, -1.05016334e-02,  1.75062828e-02,\n",
       "        -2.37535480e-02, -1.05915237e-02,  4.74238163e-03,\n",
       "        -2.25775111e-02, -2.41555348e-02,  1.97494440e-02,\n",
       "        -7.19539821e-03, -6.13753963e-03, -2.12766044e-02,\n",
       "        -1.57392658e-02, -3.37793119e-02, -4.10029516e-02,\n",
       "         3.34090106e-02,  7.73292035e-03,  2.33948603e-03,\n",
       "        -1.54493880e-02, -5.45896925e-02,  1.03339655e-02,\n",
       "         3.76508869e-02,  2.67950706e-02, -4.55664052e-03,\n",
       "        -1.56455282e-02,  1.07216956e-02, -8.71525053e-03,\n",
       "        -2.18487997e-02, -1.30080273e-02, -3.65455518e-03,\n",
       "         8.66781827e-03,  1.12345126e-02, -2.29042694e-02,\n",
       "         3.65518336e-03, -1.10471165e-02, -3.47195603e-02,\n",
       "         4.90572304e-03, -4.33534682e-02,  1.11734411e-02,\n",
       "         4.52975743e-03,  4.04642262e-02,  1.21311853e-02,\n",
       "        -2.63190493e-02, -4.83893938e-02, -3.75595838e-02,\n",
       "        -2.57770158e-03, -2.67391950e-02, -1.63513478e-02,\n",
       "        -9.28941928e-03,  5.73989376e-03,  4.78310362e-02,\n",
       "         3.46385278e-02,  3.01832263e-03,  2.86919693e-03,\n",
       "         4.96272556e-03,  9.88374278e-03, -3.38572413e-02,\n",
       "         8.36641621e-03,  4.65016700e-02, -7.46039208e-03,\n",
       "         4.52425517e-02,  6.29241997e-03, -8.19449276e-02,\n",
       "         4.41467389e-02, -4.28581797e-02,  3.84054221e-02,\n",
       "        -1.47467516e-02, -6.31957576e-02, -3.40910926e-02,\n",
       "        -3.13188359e-02, -2.87397206e-02, -8.96716304e-03,\n",
       "         1.62770748e-02, -3.77279632e-02,  2.21962351e-02,\n",
       "        -1.29218232e-02, -5.58853000e-02,  8.25005211e-03,\n",
       "         1.69208017e-03,  2.15993868e-03, -5.35798632e-02,\n",
       "         2.05570590e-02,  3.57631296e-02, -5.17531261e-02,\n",
       "        -2.47211419e-02,  7.21018165e-02,  3.76764350e-02,\n",
       "         7.95618147e-02,  5.98189607e-03,  5.08551821e-02,\n",
       "        -4.50626202e-02, -2.20109001e-02, -1.63403600e-02,\n",
       "         1.25318738e-02, -1.18709309e-02, -6.34208769e-02,\n",
       "        -6.99878931e-02,  5.30546792e-02,  3.86472382e-02,\n",
       "        -2.46051438e-02, -4.46636870e-04, -4.85123461e-03,\n",
       "         3.70403193e-02,  1.74914245e-02,  1.62401516e-02,\n",
       "         3.29663716e-02,  2.32080948e-02, -4.60017882e-02,\n",
       "        -2.64282003e-02, -5.18011227e-02, -5.66067509e-02,\n",
       "        -3.16575021e-02, -1.90074854e-02, -8.46047513e-03,\n",
       "        -3.06252372e-02,  2.76731700e-02,  2.52760369e-02,\n",
       "        -2.18171123e-02,  2.74800621e-02, -4.53394689e-02,\n",
       "         1.82925109e-02,  1.58720708e-03,  4.18268666e-02,\n",
       "         2.71324199e-02,  1.06076868e-02,  4.14699279e-02,\n",
       "        -4.38849367e-02,  4.29704003e-02, -5.32292798e-02,\n",
       "        -4.22052182e-02,  1.85007732e-02, -5.78843756e-03,\n",
       "         5.97477406e-02,  1.81560274e-02,  4.50292677e-02,\n",
       "        -1.86962429e-02,  2.04978496e-04,  6.08960427e-02,\n",
       "        -9.19441283e-02,  1.05395168e-02,  1.18518071e-02,\n",
       "        -3.06104179e-02, -1.73028396e-03,  1.09331068e-02,\n",
       "         5.74616492e-02, -2.60114614e-02,  1.15629239e-02,\n",
       "        -2.82521658e-02, -1.23702986e-02, -1.91542273e-03,\n",
       "        -2.17689164e-02, -4.21515070e-02, -6.06951378e-02,\n",
       "        -1.87646728e-02, -3.44423875e-02,  1.27803516e-02,\n",
       "         5.94183095e-02,  9.50304267e-04, -1.36479996e-02,\n",
       "        -5.50862253e-02,  4.01352979e-02, -3.79376635e-02,\n",
       "        -1.02379154e-02, -8.60174187e-03,  4.16190214e-02,\n",
       "         3.13108899e-02, -2.00684858e-03,  7.09829247e-03,\n",
       "         2.56756693e-02, -6.24310970e-02,  3.13047990e-02,\n",
       "        -3.66216600e-02,  1.67957414e-02, -2.11070534e-02,\n",
       "        -1.91459097e-02,  7.58720795e-03,  5.05378144e-03,\n",
       "         1.11673474e-02,  2.71228254e-02,  1.14103183e-02,\n",
       "         2.87138112e-02, -3.15504633e-02,  3.10606435e-02,\n",
       "         2.54660491e-02, -5.93473716e-03,  3.85006964e-02,\n",
       "         5.84587781e-03, -4.61767515e-04, -3.35769542e-03,\n",
       "         6.22563250e-02, -2.79514287e-02,  1.72306001e-02,\n",
       "        -3.96522507e-02, -1.86854731e-02,  4.56685014e-03,\n",
       "         5.65269440e-02, -1.12605222e-01, -4.48031500e-02,\n",
       "        -4.17828783e-02, -1.26084536e-01, -7.17354119e-02,\n",
       "         2.69977059e-02,  8.01087078e-03,  9.99057945e-03,\n",
       "        -1.67230405e-02, -4.17408673e-03,  5.12054795e-03,\n",
       "        -1.88609678e-02, -8.68502073e-03,  3.02075297e-02,\n",
       "        -1.68255754e-02,  2.03034990e-02,  2.20420081e-02,\n",
       "         6.25137314e-02, -5.55518530e-02, -1.64008811e-02,\n",
       "        -2.51527056e-02, -1.26808155e-02, -2.20408998e-02,\n",
       "         6.88385889e-02, -5.06941117e-02,  5.12979776e-02,\n",
       "        -5.23407981e-02,  1.68927703e-02,  5.26779108e-02,\n",
       "        -3.09444349e-02, -9.29723494e-03, -2.01318716e-03,\n",
       "         6.83919862e-02, -4.62831594e-02,  5.30618317e-02,\n",
       "         1.20418910e-02,  1.09250052e-02, -2.14816676e-03,\n",
       "        -1.98037475e-02,  2.21799184e-02,  3.05747986e-02,\n",
       "        -5.02231158e-02, -4.37610865e-01,  3.16030383e-02,\n",
       "         2.93161571e-02,  6.46065921e-02, -1.19892629e-02,\n",
       "        -2.90601104e-02,  3.39825614e-03,  4.59470451e-02,\n",
       "         3.19621898e-03,  2.78850738e-02,  7.36455619e-02,\n",
       "        -1.75916944e-02,  2.25575287e-02,  7.28973979e-03,\n",
       "         2.57834122e-02,  7.34348549e-03,  4.77811787e-03,\n",
       "         9.07260645e-03, -2.12395526e-02,  1.94171630e-02,\n",
       "         2.27533970e-02,  1.72241591e-02,  1.48730949e-02,\n",
       "         2.13482976e-02,  7.55339414e-02,  2.39763432e-03,\n",
       "         1.34757906e-02,  1.83991883e-02,  3.11313868e-02,\n",
       "         8.86288937e-03,  8.30332935e-03, -4.31938022e-02,\n",
       "        -1.38655864e-02, -1.83025375e-02,  1.61169451e-02,\n",
       "         4.71305512e-02, -5.97029403e-02,  5.82273602e-02,\n",
       "         1.48776593e-02, -1.39430566e-02,  1.16519816e-02,\n",
       "        -1.09933512e-02, -1.07698776e-02,  1.12892762e-02,\n",
       "         8.42555799e-03,  1.66953206e-02,  1.58139330e-03,\n",
       "        -3.09434664e-02, -4.86423708e-02,  1.54681895e-02,\n",
       "        -2.24443264e-02, -2.20973231e-02, -1.63247250e-02,\n",
       "        -7.80926645e-02,  8.60434840e-04,  2.37663947e-02,\n",
       "        -2.39490345e-02, -2.73660365e-02, -1.86215620e-03,\n",
       "         9.57570672e-02,  2.07031406e-02, -1.30837942e-02,\n",
       "         5.44438958e-02, -1.10559203e-02, -4.94620837e-02,\n",
       "         1.48441996e-02,  3.16233709e-02, -1.69766452e-02,\n",
       "        -5.46160974e-02,  1.95571352e-02, -3.91170271e-02,\n",
       "        -4.06790674e-02, -2.85944622e-02, -3.58261652e-02,\n",
       "        -2.30284613e-02, -3.51998978e-03, -2.68763360e-02,\n",
       "         8.07882845e-03,  3.01891435e-02,  6.64223731e-02,\n",
       "         8.55251681e-03, -4.49063629e-02,  3.13011222e-02,\n",
       "        -4.26964350e-02, -5.31066284e-02,  1.23679703e-02,\n",
       "        -1.77090392e-02, -6.73907325e-02,  1.89105403e-02,\n",
       "         1.18779456e-02, -1.36861540e-02,  1.92606188e-02,\n",
       "        -6.52473606e-03, -1.01654762e-02, -5.85398357e-03,\n",
       "        -3.21935862e-02, -2.45141312e-02, -5.84777631e-03,\n",
       "        -3.55026314e-05,  4.95064519e-02, -6.87737484e-03,\n",
       "        -1.30673302e-02,  1.44790020e-02,  8.10464937e-03,\n",
       "        -3.20601799e-02,  2.50386782e-02, -4.42180485e-02,\n",
       "        -7.55652115e-02,  5.87927774e-02,  2.81050075e-02,\n",
       "        -2.27203891e-02, -5.79357594e-02,  2.05780007e-02,\n",
       "         4.67116162e-02, -6.35264488e-03, -4.25049439e-02,\n",
       "         2.66017928e-03,  2.07626801e-02,  6.30330220e-02,\n",
       "        -2.37098094e-02, -6.80862507e-03, -5.24694473e-02,\n",
       "         8.64598826e-02,  3.71634737e-02, -5.51243909e-02,\n",
       "        -4.52173464e-02,  4.22999598e-02, -1.29065085e-02,\n",
       "        -4.33540680e-02, -1.08501166e-02, -3.30148786e-02,\n",
       "        -1.08441031e-02,  3.66785266e-02, -2.96426006e-02,\n",
       "        -4.33576629e-02,  7.92883988e-03, -3.07702878e-03,\n",
       "         2.12767776e-02, -2.70178709e-02, -5.44199580e-03,\n",
       "         4.32590721e-03, -5.29114380e-02,  1.25067802e-02,\n",
       "         9.26659163e-03, -1.78106781e-02, -3.06313522e-02,\n",
       "        -3.93814966e-02, -2.04738905e-03, -3.14040296e-02,\n",
       "        -3.50791067e-02, -4.81856754e-03,  7.61279985e-02,\n",
       "         1.88676398e-02, -2.85496395e-02, -2.76987664e-02,\n",
       "         9.64893494e-03, -2.46081185e-02, -6.84439540e-02,\n",
       "         3.23900953e-02,  2.54342575e-02,  2.34211590e-02,\n",
       "         1.07791414e-02,  6.41007274e-02, -1.28013706e-02,\n",
       "         7.11311251e-02, -3.39160189e-02, -2.87780501e-02,\n",
       "         4.67633381e-02, -3.14296782e-02,  2.28537675e-02,\n",
       "         6.85788272e-03,  1.55597897e-02, -1.94501951e-02,\n",
       "         4.32659686e-02, -3.19908746e-02,  4.19364944e-02,\n",
       "        -8.29895586e-03,  2.02135630e-02,  5.19819856e-02,\n",
       "         1.14729041e-02,  1.69383101e-02, -1.61719695e-02,\n",
       "        -5.00970567e-03,  5.92313074e-02, -2.15930701e-03,\n",
       "        -3.01487036e-02, -2.03238260e-02, -4.31580283e-03,\n",
       "        -2.67032683e-02,  1.14263892e-02,  3.65965925e-02,\n",
       "        -3.47395763e-02, -6.16639964e-02, -1.23792992e-03,\n",
       "         1.47305606e-02,  2.62814648e-02, -2.43658666e-02,\n",
       "        -3.81654166e-02,  8.46789032e-03, -7.31036067e-02,\n",
       "         2.41880361e-02, -6.77472204e-02, -2.19470840e-02,\n",
       "         9.94992256e-03, -1.58636384e-02, -1.78474579e-02,\n",
       "        -2.02276148e-02,  8.24022293e-03, -1.86723191e-02,\n",
       "         2.50577871e-02,  1.47415986e-02, -3.25378776e-02]], dtype=float32)"
      ]
     },
     "execution_count": 13,
     "metadata": {},
     "output_type": "execute_result"
    }
   ],
   "execution_count": 13
  },
  {
   "metadata": {},
   "cell_type": "code",
   "outputs": [],
   "execution_count": null,
   "source": "",
   "id": "bcfb9a6a49037ed0"
  }
 ],
 "metadata": {
  "kernelspec": {
   "display_name": "Python 3",
   "language": "python",
   "name": "python3"
  },
  "language_info": {
   "codemirror_mode": {
    "name": "ipython",
    "version": 2
   },
   "file_extension": ".py",
   "mimetype": "text/x-python",
   "name": "python",
   "nbconvert_exporter": "python",
   "pygments_lexer": "ipython2",
   "version": "2.7.6"
  }
 },
 "nbformat": 4,
 "nbformat_minor": 5
}
